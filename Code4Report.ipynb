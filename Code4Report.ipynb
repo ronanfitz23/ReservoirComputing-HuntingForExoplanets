{
 "cells": [
  {
   "cell_type": "markdown",
   "metadata": {},
   "source": [
    "# Exoplanet Hunting in Deep Space"
   ]
  },
  {
   "cell_type": "code",
   "execution_count": 3,
   "metadata": {},
   "outputs": [],
   "source": [
    "import reservoirpy as rpy\n",
    "import numpy as np\n",
    "import matplotlib.pyplot as plt\n",
    "import pandas as pd\n",
    "import random\n",
    "import pylab\n",
    "\n",
    "from pylab import sqrt\n",
    "from reservoirpy.datasets import japanese_vowels\n",
    "from reservoirpy import set_seed, verbosity\n",
    "from reservoirpy.observables import nrmse, rsquare\n",
    "\n",
    "from sklearn.metrics import accuracy_score\n",
    "from sklearn.metrics import confusion_matrix, roc_curve\n",
    "\n",
    "import seaborn as sns\n",
    "from sklearn.metrics import confusion_matrix"
   ]
  },
  {
   "cell_type": "markdown",
   "metadata": {},
   "source": [
    "Data - https://www.kaggle.com/datasets/keplersmachines/kepler-labelled-time-series-data"
   ]
  },
  {
   "cell_type": "markdown",
   "metadata": {},
   "source": [
    "## 1. Understanding the Data"
   ]
  },
  {
   "cell_type": "code",
   "execution_count": 6,
   "metadata": {},
   "outputs": [
    {
     "data": {
      "text/html": [
       "<div>\n",
       "<style scoped>\n",
       "    .dataframe tbody tr th:only-of-type {\n",
       "        vertical-align: middle;\n",
       "    }\n",
       "\n",
       "    .dataframe tbody tr th {\n",
       "        vertical-align: top;\n",
       "    }\n",
       "\n",
       "    .dataframe thead th {\n",
       "        text-align: right;\n",
       "    }\n",
       "</style>\n",
       "<table border=\"1\" class=\"dataframe\">\n",
       "  <thead>\n",
       "    <tr style=\"text-align: right;\">\n",
       "      <th></th>\n",
       "      <th>LABEL</th>\n",
       "      <th>FLUX.1</th>\n",
       "      <th>FLUX.2</th>\n",
       "      <th>FLUX.3</th>\n",
       "      <th>FLUX.4</th>\n",
       "      <th>FLUX.5</th>\n",
       "      <th>FLUX.6</th>\n",
       "      <th>FLUX.7</th>\n",
       "      <th>FLUX.8</th>\n",
       "      <th>FLUX.9</th>\n",
       "      <th>...</th>\n",
       "      <th>FLUX.3188</th>\n",
       "      <th>FLUX.3189</th>\n",
       "      <th>FLUX.3190</th>\n",
       "      <th>FLUX.3191</th>\n",
       "      <th>FLUX.3192</th>\n",
       "      <th>FLUX.3193</th>\n",
       "      <th>FLUX.3194</th>\n",
       "      <th>FLUX.3195</th>\n",
       "      <th>FLUX.3196</th>\n",
       "      <th>FLUX.3197</th>\n",
       "    </tr>\n",
       "  </thead>\n",
       "  <tbody>\n",
       "    <tr>\n",
       "      <th>0</th>\n",
       "      <td>2</td>\n",
       "      <td>93.85</td>\n",
       "      <td>83.81</td>\n",
       "      <td>20.10</td>\n",
       "      <td>-26.98</td>\n",
       "      <td>-39.56</td>\n",
       "      <td>-124.71</td>\n",
       "      <td>-135.18</td>\n",
       "      <td>-96.27</td>\n",
       "      <td>-79.89</td>\n",
       "      <td>...</td>\n",
       "      <td>-78.07</td>\n",
       "      <td>-102.15</td>\n",
       "      <td>-102.15</td>\n",
       "      <td>25.13</td>\n",
       "      <td>48.57</td>\n",
       "      <td>92.54</td>\n",
       "      <td>39.32</td>\n",
       "      <td>61.42</td>\n",
       "      <td>5.08</td>\n",
       "      <td>-39.54</td>\n",
       "    </tr>\n",
       "    <tr>\n",
       "      <th>1</th>\n",
       "      <td>2</td>\n",
       "      <td>-38.88</td>\n",
       "      <td>-33.83</td>\n",
       "      <td>-58.54</td>\n",
       "      <td>-40.09</td>\n",
       "      <td>-79.31</td>\n",
       "      <td>-72.81</td>\n",
       "      <td>-86.55</td>\n",
       "      <td>-85.33</td>\n",
       "      <td>-83.97</td>\n",
       "      <td>...</td>\n",
       "      <td>-3.28</td>\n",
       "      <td>-32.21</td>\n",
       "      <td>-32.21</td>\n",
       "      <td>-24.89</td>\n",
       "      <td>-4.86</td>\n",
       "      <td>0.76</td>\n",
       "      <td>-11.70</td>\n",
       "      <td>6.46</td>\n",
       "      <td>16.00</td>\n",
       "      <td>19.93</td>\n",
       "    </tr>\n",
       "    <tr>\n",
       "      <th>2</th>\n",
       "      <td>2</td>\n",
       "      <td>532.64</td>\n",
       "      <td>535.92</td>\n",
       "      <td>513.73</td>\n",
       "      <td>496.92</td>\n",
       "      <td>456.45</td>\n",
       "      <td>466.00</td>\n",
       "      <td>464.50</td>\n",
       "      <td>486.39</td>\n",
       "      <td>436.56</td>\n",
       "      <td>...</td>\n",
       "      <td>-71.69</td>\n",
       "      <td>13.31</td>\n",
       "      <td>13.31</td>\n",
       "      <td>-29.89</td>\n",
       "      <td>-20.88</td>\n",
       "      <td>5.06</td>\n",
       "      <td>-11.80</td>\n",
       "      <td>-28.91</td>\n",
       "      <td>-70.02</td>\n",
       "      <td>-96.67</td>\n",
       "    </tr>\n",
       "    <tr>\n",
       "      <th>3</th>\n",
       "      <td>2</td>\n",
       "      <td>326.52</td>\n",
       "      <td>347.39</td>\n",
       "      <td>302.35</td>\n",
       "      <td>298.13</td>\n",
       "      <td>317.74</td>\n",
       "      <td>312.70</td>\n",
       "      <td>322.33</td>\n",
       "      <td>311.31</td>\n",
       "      <td>312.42</td>\n",
       "      <td>...</td>\n",
       "      <td>5.71</td>\n",
       "      <td>-3.73</td>\n",
       "      <td>-3.73</td>\n",
       "      <td>30.05</td>\n",
       "      <td>20.03</td>\n",
       "      <td>-12.67</td>\n",
       "      <td>-8.77</td>\n",
       "      <td>-17.31</td>\n",
       "      <td>-17.35</td>\n",
       "      <td>13.98</td>\n",
       "    </tr>\n",
       "    <tr>\n",
       "      <th>4</th>\n",
       "      <td>2</td>\n",
       "      <td>-1107.21</td>\n",
       "      <td>-1112.59</td>\n",
       "      <td>-1118.95</td>\n",
       "      <td>-1095.10</td>\n",
       "      <td>-1057.55</td>\n",
       "      <td>-1034.48</td>\n",
       "      <td>-998.34</td>\n",
       "      <td>-1022.71</td>\n",
       "      <td>-989.57</td>\n",
       "      <td>...</td>\n",
       "      <td>-594.37</td>\n",
       "      <td>-401.66</td>\n",
       "      <td>-401.66</td>\n",
       "      <td>-357.24</td>\n",
       "      <td>-443.76</td>\n",
       "      <td>-438.54</td>\n",
       "      <td>-399.71</td>\n",
       "      <td>-384.65</td>\n",
       "      <td>-411.79</td>\n",
       "      <td>-510.54</td>\n",
       "    </tr>\n",
       "    <tr>\n",
       "      <th>...</th>\n",
       "      <td>...</td>\n",
       "      <td>...</td>\n",
       "      <td>...</td>\n",
       "      <td>...</td>\n",
       "      <td>...</td>\n",
       "      <td>...</td>\n",
       "      <td>...</td>\n",
       "      <td>...</td>\n",
       "      <td>...</td>\n",
       "      <td>...</td>\n",
       "      <td>...</td>\n",
       "      <td>...</td>\n",
       "      <td>...</td>\n",
       "      <td>...</td>\n",
       "      <td>...</td>\n",
       "      <td>...</td>\n",
       "      <td>...</td>\n",
       "      <td>...</td>\n",
       "      <td>...</td>\n",
       "      <td>...</td>\n",
       "      <td>...</td>\n",
       "    </tr>\n",
       "    <tr>\n",
       "      <th>5082</th>\n",
       "      <td>1</td>\n",
       "      <td>-91.91</td>\n",
       "      <td>-92.97</td>\n",
       "      <td>-78.76</td>\n",
       "      <td>-97.33</td>\n",
       "      <td>-68.00</td>\n",
       "      <td>-68.24</td>\n",
       "      <td>-75.48</td>\n",
       "      <td>-49.25</td>\n",
       "      <td>-30.92</td>\n",
       "      <td>...</td>\n",
       "      <td>139.95</td>\n",
       "      <td>147.26</td>\n",
       "      <td>156.95</td>\n",
       "      <td>155.64</td>\n",
       "      <td>156.36</td>\n",
       "      <td>151.75</td>\n",
       "      <td>-24.45</td>\n",
       "      <td>-17.00</td>\n",
       "      <td>3.23</td>\n",
       "      <td>19.28</td>\n",
       "    </tr>\n",
       "    <tr>\n",
       "      <th>5083</th>\n",
       "      <td>1</td>\n",
       "      <td>989.75</td>\n",
       "      <td>891.01</td>\n",
       "      <td>908.53</td>\n",
       "      <td>851.83</td>\n",
       "      <td>755.11</td>\n",
       "      <td>615.78</td>\n",
       "      <td>595.77</td>\n",
       "      <td>458.87</td>\n",
       "      <td>492.84</td>\n",
       "      <td>...</td>\n",
       "      <td>-26.50</td>\n",
       "      <td>-4.84</td>\n",
       "      <td>-76.30</td>\n",
       "      <td>-37.84</td>\n",
       "      <td>-153.83</td>\n",
       "      <td>-136.16</td>\n",
       "      <td>38.03</td>\n",
       "      <td>100.28</td>\n",
       "      <td>-45.64</td>\n",
       "      <td>35.58</td>\n",
       "    </tr>\n",
       "    <tr>\n",
       "      <th>5084</th>\n",
       "      <td>1</td>\n",
       "      <td>273.39</td>\n",
       "      <td>278.00</td>\n",
       "      <td>261.73</td>\n",
       "      <td>236.99</td>\n",
       "      <td>280.73</td>\n",
       "      <td>264.90</td>\n",
       "      <td>252.92</td>\n",
       "      <td>254.88</td>\n",
       "      <td>237.60</td>\n",
       "      <td>...</td>\n",
       "      <td>-26.82</td>\n",
       "      <td>-53.89</td>\n",
       "      <td>-48.71</td>\n",
       "      <td>30.99</td>\n",
       "      <td>15.96</td>\n",
       "      <td>-3.47</td>\n",
       "      <td>65.73</td>\n",
       "      <td>88.42</td>\n",
       "      <td>79.07</td>\n",
       "      <td>79.43</td>\n",
       "    </tr>\n",
       "    <tr>\n",
       "      <th>5085</th>\n",
       "      <td>1</td>\n",
       "      <td>3.82</td>\n",
       "      <td>2.09</td>\n",
       "      <td>-3.29</td>\n",
       "      <td>-2.88</td>\n",
       "      <td>1.66</td>\n",
       "      <td>-0.75</td>\n",
       "      <td>3.85</td>\n",
       "      <td>-0.03</td>\n",
       "      <td>3.28</td>\n",
       "      <td>...</td>\n",
       "      <td>10.86</td>\n",
       "      <td>-3.23</td>\n",
       "      <td>-5.10</td>\n",
       "      <td>-4.61</td>\n",
       "      <td>-9.82</td>\n",
       "      <td>-1.50</td>\n",
       "      <td>-4.65</td>\n",
       "      <td>-14.55</td>\n",
       "      <td>-6.41</td>\n",
       "      <td>-2.55</td>\n",
       "    </tr>\n",
       "    <tr>\n",
       "      <th>5086</th>\n",
       "      <td>1</td>\n",
       "      <td>323.28</td>\n",
       "      <td>306.36</td>\n",
       "      <td>293.16</td>\n",
       "      <td>287.67</td>\n",
       "      <td>249.89</td>\n",
       "      <td>218.30</td>\n",
       "      <td>188.86</td>\n",
       "      <td>178.93</td>\n",
       "      <td>118.93</td>\n",
       "      <td>...</td>\n",
       "      <td>71.19</td>\n",
       "      <td>0.97</td>\n",
       "      <td>55.20</td>\n",
       "      <td>-1.63</td>\n",
       "      <td>-5.50</td>\n",
       "      <td>-25.33</td>\n",
       "      <td>-41.31</td>\n",
       "      <td>-16.72</td>\n",
       "      <td>-14.09</td>\n",
       "      <td>27.82</td>\n",
       "    </tr>\n",
       "  </tbody>\n",
       "</table>\n",
       "<p>5087 rows × 3198 columns</p>\n",
       "</div>"
      ],
      "text/plain": [
       "      LABEL   FLUX.1   FLUX.2   FLUX.3   FLUX.4   FLUX.5   FLUX.6  FLUX.7  \\\n",
       "0         2    93.85    83.81    20.10   -26.98   -39.56  -124.71 -135.18   \n",
       "1         2   -38.88   -33.83   -58.54   -40.09   -79.31   -72.81  -86.55   \n",
       "2         2   532.64   535.92   513.73   496.92   456.45   466.00  464.50   \n",
       "3         2   326.52   347.39   302.35   298.13   317.74   312.70  322.33   \n",
       "4         2 -1107.21 -1112.59 -1118.95 -1095.10 -1057.55 -1034.48 -998.34   \n",
       "...     ...      ...      ...      ...      ...      ...      ...     ...   \n",
       "5082      1   -91.91   -92.97   -78.76   -97.33   -68.00   -68.24  -75.48   \n",
       "5083      1   989.75   891.01   908.53   851.83   755.11   615.78  595.77   \n",
       "5084      1   273.39   278.00   261.73   236.99   280.73   264.90  252.92   \n",
       "5085      1     3.82     2.09    -3.29    -2.88     1.66    -0.75    3.85   \n",
       "5086      1   323.28   306.36   293.16   287.67   249.89   218.30  188.86   \n",
       "\n",
       "       FLUX.8  FLUX.9  ...  FLUX.3188  FLUX.3189  FLUX.3190  FLUX.3191  \\\n",
       "0      -96.27  -79.89  ...     -78.07    -102.15    -102.15      25.13   \n",
       "1      -85.33  -83.97  ...      -3.28     -32.21     -32.21     -24.89   \n",
       "2      486.39  436.56  ...     -71.69      13.31      13.31     -29.89   \n",
       "3      311.31  312.42  ...       5.71      -3.73      -3.73      30.05   \n",
       "4    -1022.71 -989.57  ...    -594.37    -401.66    -401.66    -357.24   \n",
       "...       ...     ...  ...        ...        ...        ...        ...   \n",
       "5082   -49.25  -30.92  ...     139.95     147.26     156.95     155.64   \n",
       "5083   458.87  492.84  ...     -26.50      -4.84     -76.30     -37.84   \n",
       "5084   254.88  237.60  ...     -26.82     -53.89     -48.71      30.99   \n",
       "5085    -0.03    3.28  ...      10.86      -3.23      -5.10      -4.61   \n",
       "5086   178.93  118.93  ...      71.19       0.97      55.20      -1.63   \n",
       "\n",
       "      FLUX.3192  FLUX.3193  FLUX.3194  FLUX.3195  FLUX.3196  FLUX.3197  \n",
       "0         48.57      92.54      39.32      61.42       5.08     -39.54  \n",
       "1         -4.86       0.76     -11.70       6.46      16.00      19.93  \n",
       "2        -20.88       5.06     -11.80     -28.91     -70.02     -96.67  \n",
       "3         20.03     -12.67      -8.77     -17.31     -17.35      13.98  \n",
       "4       -443.76    -438.54    -399.71    -384.65    -411.79    -510.54  \n",
       "...         ...        ...        ...        ...        ...        ...  \n",
       "5082     156.36     151.75     -24.45     -17.00       3.23      19.28  \n",
       "5083    -153.83    -136.16      38.03     100.28     -45.64      35.58  \n",
       "5084      15.96      -3.47      65.73      88.42      79.07      79.43  \n",
       "5085      -9.82      -1.50      -4.65     -14.55      -6.41      -2.55  \n",
       "5086      -5.50     -25.33     -41.31     -16.72     -14.09      27.82  \n",
       "\n",
       "[5087 rows x 3198 columns]"
      ]
     },
     "execution_count": 6,
     "metadata": {},
     "output_type": "execute_result"
    }
   ],
   "source": [
    "test = pd.read_csv(r'C:\\Users\\Fitzpatrick\\Downloads\\exoTest.csv')\n",
    "train = pd.read_csv(r'C:\\Users\\Fitzpatrick\\Downloads\\exoTrain.csv')\n",
    "train"
   ]
  },
  {
   "cell_type": "markdown",
   "metadata": {},
   "source": [
    "Data from stars from the kepler NASA space telescope - their change in light intensity over time and a binary label - label 2 implies there is at lest one exoplanet in orbit of the star\n",
    "\n",
    "The training set has data from 5087 stars. There is 37 confirmed exoplants in this dataset\n",
    "\n",
    "The test set has data from 570 stars and there is 5 exoplanets to detect in this data set"
   ]
  },
  {
   "cell_type": "markdown",
   "metadata": {},
   "source": [
    "### Example Plots"
   ]
  },
  {
   "cell_type": "code",
   "execution_count": 8,
   "metadata": {},
   "outputs": [
    {
     "data": {
      "text/plain": [
       "(array([-500.,    0.,  500., 1000., 1500., 2000., 2500., 3000., 3500.]),\n",
       " <a list of 9 Text major ticklabel objects>)"
      ]
     },
     "execution_count": 8,
     "metadata": {},
     "output_type": "execute_result"
    },
    {
     "data": {
      "image/png": "[encoded data removed]",
      "text/plain": [
       "<Figure size 432x288 with 1 Axes>"
      ]
     },
     "metadata": {
      "needs_background": "light"
     },
     "output_type": "display_data"
    }
   ],
   "source": [
    "exampleexo = train.loc[5]\n",
    "exampleexo = exampleexo.drop(['LABEL'])\n",
    "exampleexo.plot()\n",
    "plt.title('Plot of Flux Values For a Star with an Exoplanet',fontsize=10)\n",
    "plt.ylabel('Flux Values', fontsize = 10)\n",
    "plt.xticks(rotation=90)"
   ]
  },
  {
   "cell_type": "code",
   "execution_count": 9,
   "metadata": {},
   "outputs": [
    {
     "data": {
      "image/png": "[encoded data removed]",
      "text/plain": [
       "<Figure size 432x288 with 1 Axes>"
      ]
     },
     "metadata": {
      "needs_background": "light"
     },
     "output_type": "display_data"
    }
   ],
   "source": [
    "examplenoexo = train.loc[3480]\n",
    "examplenoexo = examplenoexo.drop(['LABEL'])\n",
    "examplenoexo.plot()\n",
    "plt.title('Plot of Flux Values For a Star with no Exoplanet',fontsize=10)\n",
    "plt.ylabel('Flux Values', fontsize = 10)\n",
    "plt.xticks(rotation=90)\n",
    "plt.ylim(-400,1000)\n",
    "plt.savefig(\"planet2.svg\", format ='svg')"
   ]
  },
  {
   "cell_type": "markdown",
   "metadata": {},
   "source": [
    "## 2. Implementing RC"
   ]
  },
  {
   "cell_type": "markdown",
   "metadata": {},
   "source": [
    "This is a simpel echo state network - https://github.com/reservoirpy/"
   ]
  },
  {
   "cell_type": "code",
   "execution_count": 13,
   "metadata": {},
   "outputs": [],
   "source": [
    "from reservoirpy.nodes import Reservoir, Ridge, Input\n",
    "from imblearn.over_sampling import SMOTE"
   ]
  },
  {
   "cell_type": "markdown",
   "metadata": {},
   "source": [
    "### SMOTE"
   ]
  },
  {
   "cell_type": "code",
   "execution_count": 14,
   "metadata": {},
   "outputs": [
    {
     "data": {
      "text/plain": [
       "<matplotlib.axes._subplots.AxesSubplot at 0x1ec74a578b0>"
      ]
     },
     "execution_count": 14,
     "metadata": {},
     "output_type": "execute_result"
    },
    {
     "data": {
      "image/png": "[encoded data removed]",
      "text/plain": [
       "<Figure size 432x288 with 1 Axes>"
      ]
     },
     "metadata": {
      "needs_background": "light"
     },
     "output_type": "display_data"
    }
   ],
   "source": [
    "model = SMOTE()\n",
    "x_train_res,y_train_res = model.fit_resample(train.drop('LABEL',axis=1), train['LABEL'])\n",
    "y_train_res = y_train_res.astype('int')\n",
    "\n",
    "y_train_res.value_counts().reset_index().plot(kind='bar', x='index', y='LABEL')"
   ]
  },
  {
   "cell_type": "markdown",
   "metadata": {},
   "source": [
    "This removes the imbalance in the classes. The 2 classes are clearly now equal in the new training set."
   ]
  },
  {
   "cell_type": "markdown",
   "metadata": {},
   "source": [
    "### Model Training"
   ]
  },
  {
   "cell_type": "code",
   "execution_count": 21,
   "metadata": {},
   "outputs": [],
   "source": [
    "%%capture\n",
    "#removing the output of the reservoir iterating through the steps\n",
    "\n",
    "#Changing how the dataset is formatted to match what the reservoir will take\n",
    "#in the example on github they use a list of arrays\n",
    "X_train1_res = x_train_res\n",
    "n = len(X_train1_res)\n",
    "X_train_res = []\n",
    "for i in range(n):\n",
    "    x = X_train1_res.iloc[i].to_numpy()\n",
    "    X_train_res.append(x)\n",
    "    \n",
    "X_test1 = test\n",
    "X_test1 = X_test1.drop(['LABEL'], axis = 1)\n",
    "n = len(X_test1)\n",
    "X_test = []\n",
    "for i in range(n):\n",
    "    x = X_test1.iloc[i].to_numpy()\n",
    "    X_test.append(x)\n",
    "\n",
    "Y_train1_res = y_train_res\n",
    "n = len(Y_train1_res)\n",
    "Y_train_res = []\n",
    "for i in range(n):\n",
    "    if Y_train1_res.loc[i] == 1:\n",
    "        x = np.array([1,0])\n",
    "        Y_train_res.append(x)\n",
    "    elif Y_train1_res.loc[i] == 2:\n",
    "        x = np.array([0,1])\n",
    "        Y_train_res.append(x)\n",
    "\n",
    "Y_test1 = test[['LABEL']].copy()\n",
    "n = len(Y_test1)\n",
    "Y_test = []\n",
    "for i in range(n):\n",
    "    if Y_test1.loc[i,'LABEL'] == 1:\n",
    "        x = np.array([1,0])\n",
    "        Y_test.append(x)\n",
    "    elif Y_test1.loc[i,'LABEL'] == 2:\n",
    "        x = np.array([0,1])\n",
    "        Y_test.append(x)\n",
    "\n",
    "#defining our reservoir and putting it through training and testing\n",
    "source = Input()\n",
    "reservoir = Reservoir(1000, sr=0.1, lr=0.5, seed = 123)\n",
    "readout = Ridge(ridge=1e-6)\n",
    "model = source >> reservoir >> readout\n",
    "\n",
    "states_train = []\n",
    "for x in X_train_res:\n",
    "    states = reservoir.run(x, reset=True)\n",
    "    states_train.append(states[-1, np.newaxis])\n",
    "    \n",
    "readout.fit(states_train, Y_train_res)\n",
    "    \n",
    "Y_pred = []\n",
    "for x in X_test:\n",
    "    states = reservoir.run(x, reset=True)\n",
    "    y = readout.run(states[-1, np.newaxis])\n",
    "    Y_pred.append(y)"
   ]
  },
  {
   "cell_type": "markdown",
   "metadata": {},
   "source": [
    "### Results"
   ]
  },
  {
   "cell_type": "code",
   "execution_count": 16,
   "metadata": {},
   "outputs": [
    {
     "name": "stdout",
     "output_type": "stream",
     "text": [
      "Total Accuracy:  98.246 %\n"
     ]
    }
   ],
   "source": [
    "#changing our output to a class of either [1,0] or [0,1]\n",
    "Y_pred_class = [np.argmax(y_p) for y_p in Y_pred]\n",
    "Y_test_class = [np.argmax(y_t) for y_t in Y_test]\n",
    "score = accuracy_score(Y_test_class, Y_pred_class)\n",
    "print(\"Total Accuracy: \", f\"{score * 100:.3f} %\")"
   ]
  },
  {
   "cell_type": "code",
   "execution_count": 17,
   "metadata": {},
   "outputs": [
    {
     "data": {
      "text/plain": [
       "Text(0.5, 1.0, 'CONFUSION MATRIX')"
      ]
     },
     "execution_count": 17,
     "metadata": {},
     "output_type": "execute_result"
    },
    {
     "data": {
      "image/png": "[encoded data removed]",
      "text/plain": [
       "<Figure size 360x252 with 2 Axes>"
      ]
     },
     "metadata": {
      "needs_background": "light"
     },
     "output_type": "display_data"
    }
   ],
   "source": [
    "plt.figure(figsize=(5,3.5))\n",
    "sns.heatmap(confusion_matrix\n",
    "            (Y_test_class,Y_pred_class),\n",
    "            annot=True,cmap=\"viridis\",\n",
    "            fmt = \"d\",linecolor=\"k\",linewidths=3)\n",
    "plt.title(\"CONFUSION MATRIX\",fontsize=10)"
   ]
  },
  {
   "cell_type": "code",
   "execution_count": 29,
   "metadata": {},
   "outputs": [
    {
     "name": "stdout",
     "output_type": "stream",
     "text": [
      "Precision:  20.000 %\n"
     ]
    }
   ],
   "source": [
    "from sklearn.metrics import precision_score\n",
    "precision = precision_score(Y_pred_class,Y_test_class, average = 'binary')\n",
    "print(\"Precision: \", f\"{precision * 100:.3f} %\")"
   ]
  },
  {
   "cell_type": "code",
   "execution_count": 28,
   "metadata": {},
   "outputs": [
    {
     "name": "stdout",
     "output_type": "stream",
     "text": [
      "Recall:  14.286 %\n"
     ]
    }
   ],
   "source": [
    "from sklearn.metrics import recall_score\n",
    "recall = recall_score(Y_pred_class,Y_test_class, average = 'binary')\n",
    "print(\"Recall: \", f\"{recall * 100:.3f} %\")"
   ]
  },
  {
   "cell_type": "code",
   "execution_count": 32,
   "metadata": {},
   "outputs": [
    {
     "name": "stdout",
     "output_type": "stream",
     "text": [
      "              precision    recall  f1-score   support\n",
      "\n",
      "           0       0.99      0.99      0.99       565\n",
      "           1       0.14      0.20      0.17         5\n",
      "\n",
      "    accuracy                           0.98       570\n",
      "   macro avg       0.57      0.59      0.58       570\n",
      "weighted avg       0.99      0.98      0.98       570\n",
      "\n"
     ]
    }
   ],
   "source": [
    "from sklearn.metrics import classification_report\n",
    "print(classification_report(Y_test_class,Y_pred_class))"
   ]
  }
 ],
 "metadata": {
  "kernelspec": {
   "display_name": "Python 3",
   "language": "python",
   "name": "python3"
  },
  "language_info": {
   "codemirror_mode": {
    "name": "ipython",
    "version": 3
   },
   "file_extension": ".py",
   "mimetype": "text/x-python",
   "name": "python",
   "nbconvert_exporter": "python",
   "pygments_lexer": "ipython3",
   "version": "3.8.3"
  }
 },
 "nbformat": 4,
 "nbformat_minor": 4
}
